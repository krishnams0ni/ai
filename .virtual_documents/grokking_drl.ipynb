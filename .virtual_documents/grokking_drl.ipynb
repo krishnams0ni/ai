import numpy as np
import pandas as pd

















LEFT, RIGHT = 0, 1

P = {
    #   state: {action: [(prob. of transition, next state, reward, if statement is terminal)]}
    0: {
        0: [
            (0.5000, 0, 0.0, True),
            (0.3333, 0, 0.0, True),
            (0.1666, 0, 0.0, True),
        ],
        1: [
            (0.5000, 0, 0.0, True),
            (0.3333, 0, 0.0, True),
            (0.1666, 0, 0.0, True),
        ],
    },
    1: {
        0: [
            (0.5000, 0, 0.0, True),
            (0.3333, 1, 0.0, False),
            (0.1666, 2, 0.0, False),
        ],
        1: [
            (0.5000, 2, 0.0, False),
            (0.3333, 1, 0.0, False),
            (0.1666, 0, 0.0, True),
        ],
    },
    2: {
        0: [
            (0.5000, 1, 0.0, False),
            (0.3333, 2, 0.0, False),
            (0.1666, 3, 0.0, False),
        ],
        1: [
            (0.5000, 3, 0.0, False),
            (0.3333, 2, 0.0, False),
            (0.1666, 1, 0.0, False),
        ],
    },
    3: {
        0: [
            (0.5000, 2, 0.0, False),
            (0.3333, 3, 0.0, False),
            (0.1666, 4, 0.0, False),
        ],
        1: [
            (0.5000, 4, 0.0, False),
            (0.3333, 3, 0.0, False),
            (0.1666, 2, 0.0, False),
        ],
    },
    4: {
        0: [
            (0.5000, 3, 0.0, False),
            (0.3333, 4, 0.0, False),
            (0.1666, 5, 0.0, False),
        ],
        1: [
            (0.5000, 5, 0.0, False),
            (0.3333, 4, 0.0, False),
            (0.1666, 3, 0.0, False),
        ],
    },
    5: {
        0: [
            (0.5000, 4, 0.0, False),
            (0.3333, 5, 0.0, False),
            (0.1666, 6, 1.0, True),
        ],
        1: [
            (0.5000, 6, 1.0, True),
            (0.3333, 5, 0.0, False),
            (0.1666, 4, 0.0, False),
        ],
    },
    6: {
        0: [
            (0.5000, 6, 0.0, True),
            (0.3333, 6, 0.0, True),
            (0.1666, 6, 0.0, True),
        ],
        1: [
            (0.5000, 6, 0.0, True),
            (0.3333, 6, 0.0, True),
            (0.1666, 6, 0.0, True),
        ],
    },
}

pi = lambda s: {0: LEFT, 1: LEFT, 2: LEFT, 3: LEFT, 4: LEFT, 5: LEFT, 6: LEFT}[s]


def policy_evaluation(pi, P, gamma=1.0, theta=1e-10):
    prev_V = np.zeros(len(P))
    while True:
        V = np.zeros(len(P))
        for s in range(len(P)):
            for prob, next_state, reward, done in P[s][pi(s)]:
                V[s] += prob * (reward + gamma * prev_V[next_state] * (not done))
        if np.max(np.abs(prev_V - V)) < theta:
            break
        prev_V = V.copy()
    return V


def policy_improvement(V, P, gamma=1.0):
    Q = np.zeros((len(P), len(P[0])), dtype=np.float64)
    for s in range(len(P)):
        for a in range(len(P[s])):
            for prob, next_state, reward, done in P[s][a]:
                Q[s][a] += prob * (reward + gamma * V[next_state] * (not done))
    new_pi = lambda s: {s: a for s, a in enumerate(np.argmax(Q, axis=1))}[s]
    return new_pi





def policy_iteration(P, gamma=1.0, theta=1e-10):
    random_actions = np.random.choice(tuple(P[0].keys()), len(P))
    pi = lambda s: {s: a for s, a in enumerate(random_actions)}[s]
    while True:
        old_pi = {s: pi(s) for s in range(len(P))}
        V = policy_evaluation(pi, P, gamma, theta)
        pi = policy_improvement(V, P, gamma)
        if old_pi == {s: pi(s) for s in range(len(P))}:
            break
    return V, pi



