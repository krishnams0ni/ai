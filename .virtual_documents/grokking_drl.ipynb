import numpy as np
import pandas as pd
from tqdm import tqdm

















P = {
    0: {
        0: [
            (0.3333, 0, 0.0, False),
            (0.3333, 0, 0.0, False),
            (0.3333, 4, 0.0, False),
        ],
        1: [
            (0.3333, 0, 0.0, False),
            (0.3333, 4, 0.0, False),
            (0.3333, 1, 0.0, False),
        ],
        2: [
            (0.3333, 4, 0.0, False),
            (0.3333, 1, 0.0, False),
            (0.3333, 0, 0.0, False),
        ],
        3: [
            (0.3333, 1, 0.0, False),
            (0.3333, 0, 0.0, False),
            (0.3333, 0, 0.0, False),
        ],
    },
    1: {
        0: [
            (0.3333, 1, 0.0, False),
            (0.3333, 0, 0.0, False),
            (0.3333, 5, 0.0, True),
        ],
        1: [
            (0.3333, 0, 0.0, False),
            (0.3333, 5, 0.0, True),
            (0.3333, 2, 0.0, False),
        ],
        2: [
            (0.3333, 5, 0.0, True),
            (0.3333, 2, 0.0, False),
            (0.3333, 1, 0.0, False),
        ],
        3: [
            (0.3333, 2, 0.0, False),
            (0.3333, 1, 0.0, False),
            (0.3333, 0, 0.0, False),
        ],
    },
    2: {
        0: [
            (0.3333, 2, 0.0, False),
            (0.3333, 1, 0.0, False),
            (0.3333, 6, 0.0, False),
        ],
        1: [
            (0.3333, 1, 0.0, False),
            (0.3333, 6, 0.0, False),
            (0.3333, 3, 0.0, False),
        ],
        2: [
            (0.3333, 6, 0.0, False),
            (0.3333, 3, 0.0, False),
            (0.3333, 2, 0.0, False),
        ],
        3: [
            (0.3333, 3, 0.0, False),
            (0.3333, 2, 0.0, False),
            (0.3333, 1, 0.0, False),
        ],
    },
    3: {
        0: [
            (0.3333, 3, 0.0, False),
            (0.3333, 2, 0.0, False),
            (0.3333, 7, 0.0, True),
        ],
        1: [
            (0.3333, 2, 0.0, False),
            (0.3333, 7, 0.0, True),
            (0.3333, 3, 0.0, False),
        ],
        2: [
            (0.3333, 7, 0.0, True),
            (0.3333, 3, 0.0, False),
            (0.3333, 3, 0.0, False),
        ],
        3: [
            (0.3333, 3, 0.0, False),
            (0.3333, 3, 0.0, False),
            (0.3333, 2, 0.0, False),
        ],
    },
    4: {
        0: [
            (0.3333, 0, 0.0, False),
            (0.3333, 4, 0.0, False),
            (0.3333, 8, 0.0, False),
        ],
        1: [
            (0.3333, 4, 0.0, False),
            (0.3333, 8, 0.0, False),
            (0.3333, 5, 0.0, True),
        ],
        2: [
            (0.3333, 8, 0.0, False),
            (0.3333, 5, 0.0, True),
            (0.3333, 0, 0.0, False),
        ],
        3: [
            (0.3333, 5, 0.0, True),
            (0.3333, 0, 0.0, False),
            (0.3333, 4, 0.0, False),
        ],
    },
    5: {
        0: [(1.0, 5, 0, True)],
        1: [(1.0, 5, 0, True)],
        2: [(1.0, 5, 0, True)],
        3: [(1.0, 5, 0, True)],
    },
    6: {
        0: [
            (0.3333, 2, 0.0, False),
            (0.3333, 5, 0.0, True),
            (0.3333, 10, 0.0, False),
        ],
        1: [
            (0.3333, 5, 0.0, True),
            (0.3333, 10, 0.0, False),
            (0.3333, 7, 0.0, True),
        ],
        2: [
            (0.3333, 10, 0.0, False),
            (0.3333, 7, 0.0, True),
            (0.3333, 2, 0.0, False),
        ],
        3: [
            (0.3333, 7, 0.0, True),
            (0.3333, 2, 0.0, False),
            (0.3333, 5, 0.0, True),
        ],
    },
    7: {
        0: [(1.0, 7, 0, True)],
        1: [(1.0, 7, 0, True)],
        2: [(1.0, 7, 0, True)],
        3: [(1.0, 7, 0, True)],
    },
    8: {
        0: [
            (0.3333, 4, 0.0, False),
            (0.3333, 8, 0.0, False),
            (0.3333, 12, 0.0, True),
        ],
        1: [
            (0.3333, 8, 0.0, False),
            (0.3333, 12, 0.0, True),
            (0.3333, 9, 0.0, False),
        ],
        2: [
            (0.3333, 12, 0.0, True),
            (0.3333, 9, 0.0, False),
            (0.3333, 4, 0.0, False),
        ],
        3: [
            (0.3333, 9, 0.0, False),
            (0.3333, 4, 0.0, False),
            (0.3333, 8, 0.0, False),
        ],
    },
    9: {
        0: [
            (0.3333, 5, 0.0, True),
            (0.3333, 8, 0.0, False),
            (0.3333, 13, 0.0, False),
        ],
        1: [
            (0.3333, 8, 0.0, False),
            (0.3333, 13, 0.0, False),
            (0.3333, 10, 0.0, False),
        ],
        2: [
            (0.3333, 13, 0.0, False),
            (0.3333, 10, 0.0, False),
            (0.3333, 5, 0.0, True),
        ],
        3: [
            (0.3333, 10, 0.0, False),
            (0.3333, 5, 0.0, True),
            (0.3333, 8, 0.0, False),
        ],
    },
    10: {
        0: [
            (0.3333, 6, 0.0, False),
            (0.3333, 9, 0.0, False),
            (0.3333, 14, 0.0, False),
        ],
        1: [
            (0.3333, 9, 0.0, False),
            (0.3333, 14, 0.0, False),
            (0.3333, 11, 0.0, True),
        ],
        2: [
            (0.3333, 14, 0.0, False),
            (0.3333, 11, 0.0, True),
            (0.3333, 6, 0.0, False),
        ],
        3: [
            (0.3333, 11, 0.0, True),
            (0.3333, 6, 0.0, False),
            (0.3333, 9, 0.0, False),
        ],
    },
    11: {
        0: [(1.0, 11, 0, True)],
        1: [(1.0, 11, 0, True)],
        2: [(1.0, 11, 0, True)],
        3: [(1.0, 11, 0, True)],
    },
    12: {
        0: [(1.0, 12, 0, True)],
        1: [(1.0, 12, 0, True)],
        2: [(1.0, 12, 0, True)],
        3: [(1.0, 12, 0, True)],
    },
    13: {
        0: [
            (0.3333, 9, 0.0, False),
            (0.3333, 12, 0.0, True),
            (0.3333, 13, 0.0, False),
        ],
        1: [
            (0.3333, 12, 0.0, True),
            (0.3333, 13, 0.0, False),
            (0.3333, 14, 0.0, False),
        ],
        2: [
            (0.3333, 13, 0.0, False),
            (0.3333, 14, 0.0, False),
            (0.3333, 9, 0.0, False),
        ],
        3: [
            (0.3333, 14, 0.0, False),
            (0.3333, 9, 0.0, False),
            (0.3333, 12, 0.0, True),
        ],
    },
    14: {
        0: [
            (0.3333, 10, 0.0, False),
            (0.3333, 13, 0.0, False),
            (0.3333, 14, 0.0, False),
        ],
        1: [
            (0.3333, 13, 0.0, False),
            (0.3333, 14, 0.0, False),
            (0.3333, 15, 1.0, True),
        ],
        2: [
            (0.3333, 14, 0.0, False),
            (0.3333, 15, 1.0, True),
            (0.3333, 10, 0.0, False),
        ],
        3: [
            (0.3333, 15, 1.0, True),
            (0.3333, 10, 0.0, False),
            (0.3333, 13, 0.0, False),
        ],
    },
    15: {
        0: [(1.0, 15, 0, True)],
        1: [(1.0, 15, 0, True)],
        2: [(1.0, 15, 0, True)],
        3: [(1.0, 15, 0, True)],
    },
}

LEFT, DOWN, RIGHT, UP = 0, 1, 2, 3

pi = lambda s: {
    0:UP, 1:UP, 2:UP, 3:UP,
    4:LEFT, 5:UP, 6:UP, 7:UP,
    8:UP, 9:DOWN, 10:LEFT, 11:LEFT,
    12:LEFT, 13:RIGHT, 14:RIGHT, 15:LEFT
}[s]


def policy_evaluation(pi, P, gamma=1.0, theta=1e-10):
    prev_V = np.zeros(len(P))
    while True:
        V = np.zeros(len(P))
        for s in range(len(P)):
            for prob, next_state, reward, done in P[s][pi(s)]:
                V[s] += prob * (reward + gamma * prev_V[next_state] * (not done))
        if np.max(np.abs(prev_V - V)) < theta:
            break
        prev_V = V.copy()
    return V


def policy_improvement(V, P, gamma=1.0):
    Q = np.zeros((len(P), len(P[0])), dtype=np.float64)
    for s in range(len(P)):
        for a in range(len(P[s])):
            for prob, next_state, reward, done in P[s][a]:
                Q[s][a] += prob * (reward + gamma * V[next_state] * (not done))
    new_pi = lambda s: {s: a for s, a in enumerate(np.argmax(Q, axis=1))}[s]
    return new_pi


def print_policy(pi):
    for i in range(0, 16, 4):
        k, l, m, n = [pi(_) for _ in range(i, i+4)]
        d = {0:"←", 1:"↓", 2:"→", 3:"↑"}
        print(d[k], d[l], d[m], d[n])
    print()





def value_iteration(P, gamma=1.0, theta=1e-10):
    V = np.zeros(len(P), dtype=np.float64)
    iteration = 1
    while True:
        Q = np.zeros((len(P), len(P[0])), dtype=np.float64)
        for s in range(len(P)):
            for a in range(len(P[s])):
                for prob, next_state, reward, done in P[s][a]:
                    Q[s][a] += prob * (reward + gamma * V[next_state] * (not done))
        print_policy(pi = lambda s: {s:a for s, a in enumerate(np.argmax(Q, axis=1))}[s])
        print(iteration)
        iteration+=1
        print(policy_evaluation(lambda s: {s:a for s, a in enumerate(np.argmax(Q, axis=1))}[s], P))
        for i in range(0, 16, 4):
            print(round(V[i], 3), round(V[i+1], 3), round(V[i+2], 3), round(V[i+3], 3))
        if np.max(np.abs(V - np.max(Q, axis=1))) < theta:
            break
        V = np.max(Q, axis=1)
    pi = lambda s: {s:a for s, a in enumerate(np.argmax(Q, axis=1))}[s]
    return V, pi


print_policy(pi)
print_policy(value_iteration(P)[1])






